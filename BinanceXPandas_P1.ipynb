{
 "cells": [
  {
   "attachments": {},
   "cell_type": "markdown",
   "metadata": {},
   "source": [
    "Part 1"
   ]
  },
  {
   "attachments": {},
   "cell_type": "markdown",
   "metadata": {},
   "source": [
    "Fetch all coins by categoryID from "
   ]
  },
  {
   "cell_type": "code",
   "execution_count": 23,
   "metadata": {},
   "outputs": [],
   "source": [
    "import json\n",
    "import pandas as pd\n",
    "import numpy as np\n",
    "# API call to fetch the data\n",
    "url=\"https://api.coingecko.com/api/v3/coins/markets?vs_currency=usd&order=market_cap_desc&per_page=100&page=1&sparkline=false&locale=en\"\n",
    "category_data=pd.read_csv(\"./input_files/categories.csv\")\n",
    "categories=pd.DataFrame(category_data)\n",
    "# print(categories['category_id'])\n",
    "usdt_pairs=pd.read_csv(\"./input_files/Binance all pairs (1).csv\")\n",
    "usdt_pairs_dataframe=pd.DataFrame(usdt_pairs)\n",
    "usdt_pairs_dataframe['USDT Pairs']=usdt_pairs_dataframe['USDT Pairs'].apply(lambda x: x.replace(\"/USDT\",\"\"))\n"
   ]
  },
  {
   "cell_type": "code",
   "execution_count": 27,
   "metadata": {},
   "outputs": [
    {
     "data": {
      "text/plain": [
       "0            zrx\n",
       "1            zil\n",
       "2            zen\n",
       "3            zec\n",
       "4            ygg\n",
       "         ...    \n",
       "423     aavedown\n",
       "424         aave\n",
       "425      1inchup\n",
       "426    1inchdown\n",
       "427        1inch\n",
       "Name: USDT Pairs, Length: 428, dtype: object"
      ]
     },
     "execution_count": 27,
     "metadata": {},
     "output_type": "execute_result"
    }
   ],
   "source": [
    "usdt_pairs_dataframe['USDT Pairs']"
   ]
  },
  {
   "attachments": {},
   "cell_type": "markdown",
   "metadata": {},
   "source": [
    "delete all coins received in Step 3 which are not present in Step 1. Instead we have filtered the required coins only"
   ]
  },
  {
   "cell_type": "code",
   "execution_count": 24,
   "metadata": {},
   "outputs": [
    {
     "name": "stdout",
     "output_type": "stream",
     "text": [
      "['agix', 'fet', 'ocean', 'rlc', 'nmr', 'algo', 'uni', 'crv', 'cake', 'osmo', '1inch', 'bal', 'sushi', 'knc', 'bnt', 'perp', 'ray', 'quick', 'burger', 'any', 'grt', 'vib', 'data', 'apt', 'cake', 'twt', 'multi', 'celr', 'wing', 'usdc', 'dai', 'uni', 'link', 'ldo', 'tusd', 'grt', 'mkr', 'crv', 'fxs', 'gmx', 'lrc', 'woo', 'comp', 'yfi', 'magic', 'gno', 'bal', 'sushi', 'gns', 'syn', 'bico', 'multi', 'lpt', 'stg', 'knc', 'celr', 'ctsi', 'coti', 'spell', 'joe', 'dodo', 'perp', 'badger', 'bond', 'bifi', 'df', 'rgt', 'usds', 'magic', 'usdc', 'dai', 'paxg', 'susd', 'ada', 'ltc', 'dot', 'xrp', 'mln', 'cvp', 'bnb', 'usdc', 'busd', 'avax', 'dai', 'uni', 'link', 'tusd', 'grt', 'aave', 'snx', 'mkr', 'fxs', 'gmx', '1inch', 'bat', 'woo', 'comp', 'yfi', 'ankr', 'inj', 'sushi', 'zrx', 'syn', 'multi', 'uma', 'stg', 'knc', 'ctsi', 'spell', 'alpha', 'joe', 'beta', 'bifi', 'qi', 'auto', 'qi', 'usds', 'magic', 'usdc', 'bnb', 'eth', 'axs', 'slp', 'dock', 'mdt', 'data', 'fida', 'alpha', 'xvs', 'ctk', 'ata', 'bel', 'unfi', 'hard', 'wing', 'btcst', 'bnb', 'usdc', 'doge', 'matic', 'busd', 'shib', 'dai', 'uni', 'link', 'atom', 'tusd', 'grt', 'aave', 'ftm', 'mana', 'axs', 'cake', 'fxs', 'twt', 'rune', 'zil', '1inch', 'kava', 'fet', 'woo', 'comp', 'gala', 'ankr', 'inj', 'iotx', 'sushi', 'mask', 'gmt', 'ont', 'syn', 'multi', 'sfp', 'sxp', 'ach', 'stg', 'mc', 'knc', 'hft', 'dexe', 'alice', 'c98', 'ctsi', 'mbox', 'hook', 'chr', 'alpha', 'mdx', 'joe', 'wrx', 'dodo', 'xvs', 'bsw', 'gal', 'perp', 'tlm', 'reef', 'beta', 'ata', 'alpaca', 'super', 'lto', 'gmt', 'phb', 'pols', 'lina', 'troy', 'bel', 'arpa', 'bake', 'auction', 'dia', 'bifi', 'ava', 'ramp', 'blz', 'unfi', 'clv', 'vidt', 'alpine', 'data', 'chess', 'cos', 'adx', 'df', 'eps', 'santos', 'farm', 'burger', 'drep', 'om', 'vite', 'auto', 'front', 'lazio', 'mir', 'pros', 'pnt', 'for', 'vet', 'iotx', 'dexe', 'ogn', 'mln', 'dnt', 'auto', 'akro', 'link', 'grt', 'rpl', 'band', 'uma', 'nmr', 'req', 'ctk', 'key', 'phb', 'troy', 'trb', 'vidt', 'fida', 'wtc', 'ctk', 'usdc', 'atom', 'ada', 'link', 'api3', 'coti', 'btc', 'eth', 'bnb', 'usdc', 'xrp', 'ada', 'doge', 'matic', 'busd', 'sol', 'dot', 'shib', 'ltc', 'trx', 'avax', 'dai', 'uni', 'link', 'atom', 'xmr', 'etc', 'fil', 'bch', 'xlm', 'ldo', 'apt', 'hbar', 'qnt', 'near', 'vet', 'ape', 'icp', 'algo', 'tusd', 'eos', 'grt', 'sand', 'aave', 'ftm', 'mana', 'flow', 'egld', 'theta', 'xtz', 'axs', 'stx', 'lunc', 'snx', 'imx', 'mkr', 'neo', 'usdp', 'op', 'rpl', 'bsv', 'klay', 'crv', 'cake', 'dash', 'btt', 'fxs', 'mina', 'chz', 'gmx', 'xec', 'twt', 'paxg', 'agix', 'osmo', 'zec', 'rndr', 'rune', 'zil', 'cfx', '1inch', 'cvx', 'ar', 'enj', 'kava', 'lrc', 'fet', 'bat', 'nexo', 'xem', 'ens', 'luna', 'dydx', 'tfuel', 'hnt', 'hot', 'celo', 'dcr', 'qtum', 'rvn', 'woo', 'amp', 'comp', 'ksm', 'rose', 'yfi', 'ssv', 'gno', 'magic', 'btg', 'astr', 'gala', 'jasmy', 'bal', 'ankr', 'audio', 'nu', 'jst', 'inj', 'glmr', 'iotx', 'sushi', 'mask', 'waves', 'kda', 'one', 'gns', 'gmt', 'band', 'flux', 'omg', 'ont', 'sc', 'icx', 'zrx', 'iost', 'rsr', 'syn', 'bico', 'multi', 'lqty', 'skl', 'sfp', 'poly', 'dgb', 'lpt', 'waxp', 'ilv', 'sxp', 'ocean', 'lsk', 'hive', 'zen', 'ach', 'uma', 'ckb', 'scrt', 'elf', 'vgx', 'rif', 'stg', 'tribe', 'celo', 'ankr', 'c98', 'bifi', 'auto', 'hnt', 'nkn', 'atom', 'lunc', 'osmo', 'rune', 'kava', 'fet', 'ankr', 'inj', 'kda', 'band', 'scrt', 'ant', 'ctk', 'iris', 'blz', 'hard', 'mir', 'anc', 'usdc', 'busd', 'dai', 'bifi', 'auto', 'alice', 'orn', 'dai', 'uni', 'link', 'ldo', 'grt', 'aave', 'lunc', 'snx', 'mkr', 'rpl', 'crv', 'cake', 'fxs', 'gmx', 'osmo', 'rune', '1inch', 'cvx', 'kava', 'lrc', 'dydx', 'amp', 'comp', 'gno', 'yfi', 'bal', 'jst', 'inj', 'sushi', 'gns', 'band', 'zrx', 'rsr', 'lqty', 'uma', 'stg', 'tribe', 'knc', 'api3', 'nmr', 'tru', 'srm', 'ren', 'c98', 'keep', 'spell', 'alpha', 'stpt', 'joe', 'dodo', 'xvs', 'bnt', 'rep', 'perp', 'badger', 'ray', 'susd', 'alpaca', 'yfii', 'wnxm', 'wan', 'quick', 'quick', 'pols', 'flm', 'kp3r', 'lina', 'idex', 'alcx', 'bel', 'trb', 'auction', 'bond', 'bifi', 'dia', 'orn', 'mln', 'ramp', 'unfi', 'qi', 'fis', 'chess', 'lend', 'bzrx', 'fida', 'hard', 'df', 'eps', 'farm', 'amb', 'wing', 'auto', 'front', 'mir', 'cvp', 'pros', 'pnt', 'for', 'torn', 'anc', 'qi', 'rgt', 'bifi', 'uni', 'snx', 'crv', 'cake', 'osmo', 'rune', '1inch', 'lrc', 'dydx', 'gno', 'bal', 'sushi', 'zrx', 'srm', 'joe', 'dodo', 'bnt', 'perp', 'ray', 'quick', 'quick', 'flm', 'lina', 'idex', 'bzrx', 'eps', 'burger', 'vite', 'any', 'btc', 'xrp', 'doge', 'ltc', 'atom', 'bch', 'xlm', 'algo', 'dash', 'fet', 'dcr', 'rvn', 'btg', 'flux', 'dgb', 'xno', 'steem', 'mtl', 'lto', 'hc', 'df', 'beam', 'aion', 'bch', 'city', 'bnb', 'woo', 'ftt', 'one', 'ghst', 'super', 'ygg', 'ern', 'snx', 'gmx', 'dydx', 'gns', 'uma', 'stpt', 'perp', 'bond', 'mir', 'btc', 'eth', 'bnb', 'usdc', 'xrp', 'ada', 'doge', 'matic', 'busd', 'sol', 'dot', 'shib', 'ltc', 'trx', 'avax', 'dai', 'uni', 'link', 'atom', 'xmr', 'etc', 'fil', 'bch', 'xlm', 'ldo', 'apt', 'qnt', 'hbar', 'near', 'vet', 'ape', 'icp', 'algo', 'tusd', 'eos', 'grt', 'sand', 'aave', 'ftm', 'mana', 'flow', 'egld', 'theta', 'xtz', 'axs', 'stx', 'lunc', 'snx', 'imx', 'mkr', 'neo', 'usdp', 'op', 'rpl', 'bsv', 'klay', 'crv', 'cake', 'dash', 'btt', 'fxs', 'mina', 'chz', 'gmx', 'xec', 'twt', 'paxg', 'agix', 'zec', 'osmo', 'rune', 'rndr', 'zil', 'cfx', '1inch', 'cvx', 'ar', 'enj', 'kava', 'fet', 'lrc', 'bat', 'nexo', 'xem', 'ens', 'luna', 'dydx', 'tfuel', 'hnt', 'hot', 'celo', 'dcr', 'qtum', 'rvn', 'woo', 'comp', 'ksm', 'amp', 'rose', 'ssv', 'gno', 'yfi', 'magic', 'btg', 'gala', 'astr', 'jasmy', 'ankr', 'bal', 'audio', 'nu', 'jst', 'inj', 'glmr', 'iotx', 'sushi', 'mask', 'kda', 'waves', 'one', 'gns', 'gmt', 'band', 'flux', 'omg', 'ont', 'sc', 'icx', 'zrx', 'iost', 'rsr', 'bico', 'syn', 'multi', 'lqty', 'skl', 'sfp', 'poly', 'dgb', 'lpt', 'waxp', 'ilv', 'sxp', 'ocean', 'lsk', 'hive', 'zen', 'ach', 'uma', 'ckb', 'scrt', 'elf', 'vgx', 'rif', 'stg', 'tribe', 'link', 'icx', 'bico', 'fis', 'btc', 'eth', 'bnb', 'usdc', 'xrp', 'ada', 'doge', 'matic', 'busd', 'sol', 'dot', 'shib', 'ltc', 'trx', 'avax', 'dai', 'uni', 'link', 'atom', 'xmr', 'etc', 'fil', 'bch', 'xlm', 'ldo', 'apt', 'qnt', 'hbar', 'near', 'vet', 'ape', 'icp', 'algo', 'tusd', 'eos', 'grt', 'sand', 'aave', 'ftm', 'mana', 'flow', 'egld', 'theta', 'xtz', 'axs', 'stx', 'lunc', 'snx', 'imx', 'mkr', 'neo', 'usdp', 'op', 'rpl', 'bsv', 'klay', 'crv', 'cake', 'dash', 'btt', 'fxs', 'mina', 'chz', 'gmx', 'xec', 'twt', 'paxg', 'agix', 'zec', 'osmo', 'rune', 'rndr', 'zil', 'cfx', '1inch', 'cvx', 'ar', 'enj', 'kava', 'fet', 'lrc', 'bat', 'nexo', 'xem', 'ens', 'luna', 'dydx', 'tfuel', 'hnt', 'hot', 'celo', 'dcr', 'qtum', 'rvn', 'woo', 'comp', 'ksm', 'amp', 'rose', 'ssv', 'gno', 'yfi', 'magic', 'btg', 'gala', 'astr', 'jasmy', 'ankr', 'bal', 'audio', 'nu', 'jst', 'inj', 'glmr', 'iotx', 'sushi', 'mask', 'waves', 'kda', 'one', 'gns', 'gmt', 'band', 'flux', 'omg', 'ont', 'sc', 'icx', 'zrx', 'iost', 'rsr', 'bico', 'syn', 'multi', 'lqty', 'skl', 'sfp', 'poly', 'dgb', 'lpt', 'waxp', 'ilv', 'sxp', 'ocean', 'lsk', 'hive', 'zen', 'ach', 'uma', 'ckb', 'scrt', 'elf', 'vgx', 'rif', 'stg', 'tribe', 'ankr', 'beth', 'bnb', 'uni', 'snx', 'crv', 'cake', 'rune', '1inch', 'lrc', 'dydx', 'woo', 'bal', 'sushi', 'srm', 'ren', 'wrx', 'dodo', 'bnt', 'perp', 'quick', 'quick', 'flm', 'lina', 'idex', 'bts', 'chess', 'bzrx', 'eps', 'one', 'ftt', 'mana', 'theta', 'enj', 'slp', 'cocos', 'cos', 'vib', 'og', 'pla', 'gtc', 'powr', 'kava', 'nexo', 'poly', 'sxp', 'uma', 'vgx', 'mln', 'akro', 'mco', 'pla', 'usdc', 'busd', 'dai', 'link', 'tusd', 'aave', 'ftm', 'lunc', 'snx', 'crv', 'fxs', 'nexo', 'woo', 'yfi', 'ankr', 'sushi', 'band', 'syn', 'multi', 'stg', 'knc', 'spell', 'badger', 'alpaca', 'kp3r', 'bifi', 'auto', 'rgt', 'bifi', 'any', 'bar', 'psg', 'city', 'santos', 'gal', 'lazio', 'acm', 'juv', 'atm', 'og', 'asr', 'for', 'porto', 'fun', 'pla', 'ape', 'icp', 'imx', 'sand', 'axs', 'enj', 'magic', 'gala', 'gmt', 'waxp', 'ilv', 'cocos', 'mc', 'slp', 'alice', 'mbox', 'pyr', 'ghst', 'tlm', 'ygg', 'loka', 'blz', 'ern', 'vidt', 'burger', 'alpha', 'usdc', 'busd', 'dai', 'uni', 'link', 'grt', 'crv', 'ankr', 'gno', 'yfi', 'bal', 'sushi', 'c98', 'req', 'perp', 'badger', 'oxt', 'dia', 'data', 'auto', 'pnt', 'cvp', 'torn', 'rare', 'ghst', 'alpha', 'uni', 'icp', 'aave', 'snx', 'crv', 'cake', 'dash', 'mkr', 'xec', 'mask', 'ens', 'comp', 'dcr', 'yfi', 'bal', 'sushi', 'amp', 'zrx', 'uma', 'tribe', 'mc', 'ant', 'ghst', 'badger', 'alpaca', 'yfii', 'agld', 'forth', 'bond', 'chess', 'farm', 'amb', 'cvp', 'dego', 'rgt', 'rare', 'usdc', 'matic', 'busd', 'dai', 'uni', 'link', 'tusd', 'grt', 'ftm', 'sand', 'aave', 'axs', 'snx', 'fxs', 'paxg', '1inch', 'bat', 'comp', 'yfi', 'bal', 'one', 'sushi', 'lpt', 'ren', 'reef', 'lina', 'bifi', 'auto', 'magic', 'usds', 'mdx', 'bifi', 'auto', 'sys', 'gal', 'cvc', 'key', 'data', 'link', 'fil', 'ldo', 'stx', 'grt', 'ftm', 'rpl', 'rune', 'elf', 'ctsi', 'rad', 'ardr', 'pond', 'wan', 'kp3r', 'fida', 'pnt', 'fil', 'lit', 'wnxm', 'vet', 'iotx', 'jasmy', 'hnt', 'dgb', 'amb', 'iotx', 'iotx', 'ray', 'pols', 'auction', 'om', 'btc', 'eth', 'bnb', 'ada', 'sol', 'dot', 'avax', 'algo', 'ftm', 'egld', 'matic', 'imx', 'op', 'lrc', 'skl', 'aave', 'mkr', 'kava', 'comp', 'lqty', 'tru', 'xvs', 'alpaca', 'alcx', 'qi', 'ramp', 'bzrx', 'hard', 'for', 'anc', 'qi', 'bifi', 'ldo', 'rpl', 'fxs', 'ankr', 'qi', 'fis', 'dash', 'flux', 'zen', 'sys', 'firo', 'adx', 'ong', 'doge', 'shib', 'doge', 'cvx', 'icp', 'sand', 'mana', 'axs', 'rndr', 'enj', 'magic', 'ilv', 'mc', 'alice', 'mbox', 'pyr', 'ghst', 'ygg', 'loka', 'ern', 'burger', 'alpha', 'high']\n"
     ]
    }
   ],
   "source": [
    "data_={}\n",
    "data=json.loads('{}')\n",
    "crypto_tracker=pd.read_csv(\"./input_files/Crypto - Tracker - Sheet7.csv\")\n",
    "crypto_tracker_dataframe=pd.DataFrame(crypto_tracker)\n",
    "usdt_pairs_dataframe['USDT Pairs']=usdt_pairs_dataframe['USDT Pairs'].apply(lambda x: x.lower())\n",
    "count =0\n",
    "coins_filtered=[]\n",
    "for symbol in crypto_tracker_dataframe['symbol']:\n",
    "    if symbol in np.array(usdt_pairs_dataframe['USDT Pairs']):\n",
    "        coins_filtered.append(symbol)\n",
    "        count=count+1\n",
    "# To check total number of coins to append\n",
    "# print(count)\n",
    "categories=pd.read_csv(\"./input_files/categories.csv\")\n",
    "categories_dataframe=pd.DataFrame(categories)\n",
    "crypto_tracker = pd.read_csv(\"./input_files/Crypto - Tracker - Sheet7.csv\")\n",
    "print(coins_filtered)"
   ]
  },
  {
   "attachments": {},
   "cell_type": "markdown",
   "metadata": {},
   "source": [
    "Map all coins in Step 1 to their categories. Many to many relationships which means, multiple coins can have multiple categories"
   ]
  },
  {
   "cell_type": "code",
   "execution_count": 25,
   "metadata": {},
   "outputs": [],
   "source": [
    "# Create an empty dictionary to hold the coins by category\n",
    "coins_by_category = {}\n",
    "for category in categories['name']:\n",
    "    # Get the coins in the current category\n",
    "    category_coins = crypto_tracker[crypto_tracker['Category'] == category]['symbol'].tolist()\n",
    "    # Filter the coins in the current category to only those present in coins_filtered\n",
    "    category_coins_filtered = [coin for coin in category_coins if coin in coins_filtered]\n",
    "    # Add the coins to the dictionary with the category name as the key, only if there are any coins in the category that are also present in coins_filtered\n",
    "    if category_coins_filtered:\n",
    "        coins_by_category[category] = category_coins_filtered"
   ]
  },
  {
   "cell_type": "code",
   "execution_count": 26,
   "metadata": {},
   "outputs": [
    {
     "name": "stdout",
     "output_type": "stream",
     "text": [
      "{'Analytics': ['grt', 'vib', 'data'], 'Big Data': ['dock', 'mdt', 'data', 'fida'], 'Business Platform': ['vet', 'iotx', 'dexe', 'ogn', 'mln', 'dnt', 'auto', 'akro'], 'Business Services': ['link', 'grt', 'rpl', 'band', 'uma', 'nmr', 'req', 'ctk', 'key', 'phb', 'troy', 'trb', 'vidt', 'fida', 'wtc', 'ctk'], 'Collectibles': ['ghst', 'super', 'ygg', 'ern'], 'Communication': ['hnt', 'nkn'], 'Energy': ['powr'], 'Entertainment': ['mana', 'theta', 'enj', 'slp', 'cocos', 'cos', 'vib', 'og', 'pla', 'gtc'], 'Gambling': ['fun', 'pla'], 'Gnosis Chain Ecosystem': ['usdc', 'busd', 'dai', 'uni', 'link', 'grt', 'crv', 'ankr', 'gno', 'yfi', 'bal', 'sushi', 'c98', 'req', 'perp', 'badger', 'oxt', 'dia', 'data', 'auto', 'pnt', 'cvp', 'torn', 'rare'], 'Gotchiverse': ['ghst', 'alpha'], 'Governance': ['uni', 'icp', 'aave', 'snx', 'crv', 'cake', 'dash', 'mkr', 'xec', 'mask', 'ens', 'comp', 'dcr', 'yfi', 'bal', 'sushi', 'amp', 'zrx', 'uma', 'tribe', 'mc', 'ant', 'ghst', 'badger', 'alpaca', 'yfii', 'agld', 'forth', 'bond', 'chess', 'farm', 'amb', 'cvp', 'dego', 'rgt', 'rare'], 'Harmony Ecosystem': ['usdc', 'matic', 'busd', 'dai', 'uni', 'link', 'tusd', 'grt', 'ftm', 'sand', 'aave', 'axs', 'snx', 'fxs', 'paxg', '1inch', 'bat', 'comp', 'yfi', 'bal', 'one', 'sushi', 'lpt', 'ren', 'reef', 'lina', 'bifi', 'auto', 'magic', 'usds'], 'HECO Chain Ecosystem': ['mdx', 'bifi', 'auto'], 'Identity': ['sys', 'gal', 'cvc', 'key'], 'Index': ['data'], 'Infrastructure': ['link', 'fil', 'ldo', 'stx', 'grt', 'ftm', 'rpl', 'rune', 'elf', 'ctsi', 'rad', 'ardr', 'pond', 'wan', 'kp3r', 'fida', 'pnt', 'fil', 'lit'], 'Insurance': ['wnxm'], 'Launchpad': ['ray', 'pols', 'auction', 'om'], 'Liquid Staking Governance Tokens': ['ldo', 'rpl', 'fxs', 'ankr', 'qi', 'fis'], 'Masternodes': ['dash', 'flux', 'zen', 'sys', 'firo'], 'Media': ['adx', 'ong'], 'Meme': ['doge']}\n"
     ]
    }
   ],
   "source": [
    "# Print the coins by category\n",
    "print(coins_by_category)\n"
   ]
  }
 ],
 "metadata": {
  "kernelspec": {
   "display_name": "Python 3",
   "language": "python",
   "name": "python3"
  },
  "language_info": {
   "codemirror_mode": {
    "name": "ipython",
    "version": 3
   },
   "file_extension": ".py",
   "mimetype": "text/x-python",
   "name": "python",
   "nbconvert_exporter": "python",
   "pygments_lexer": "ipython3",
   "version": "3.10.6"
  },
  "orig_nbformat": 4
 },
 "nbformat": 4,
 "nbformat_minor": 2
}
